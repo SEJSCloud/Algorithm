{
 "cells": [
  {
   "cell_type": "code",
   "execution_count": 1,
   "metadata": {},
   "outputs": [],
   "source": [
    "# 프로그래머스 LV1 실패율 2019 KAKAO BLIND RECRUITMENT\n",
    "# 실패율은 다음과 같이 정의한다.\n",
    "# 스테이지에 도달했으나 아직 클리어하지 못한 플레이어의 수 / 스테이지에 도달한 플레이어 수\n",
    "# 전체 스테이지의 개수 N, 게임을 이용하는 사용자가 현재 멈춰있는 스테이지의 번호가 담긴 배열 stages가 매개변수로 주어질 때,\n",
    "# 실패율이 높은 스테이지부터 내림차순으로 스테이지의 번호가 담겨있는 배열을 return 하도록 solution 함수를 완성하라.\n",
    "\n",
    "# N stagesresult\n",
    "# 5 [2, 1, 2, 6, 2, 4, 3, 3] [3,4,2,1,5]\n",
    "# 4 [4,4,4,4,4] [4,1,2,3]"
   ]
  },
  {
   "cell_type": "code",
   "execution_count": 65,
   "metadata": {},
   "outputs": [],
   "source": [
    "def solution(N, stages):\n",
    "    # 정답을 담아줄 그릇 생성 => 결국에는 스테이지 번호가 답이 되므로 \n",
    "    # 딕셔너리 타입을 이용해 스테이지 번호 + 실패율 까지 한번에 저장\n",
    "    answer = {}\n",
    "    \n",
    "    # 분모가 되어줄 전체 사용자들의 수\n",
    "    users = len(stages)\n",
    "    \n",
    "    # 1스테이지 부터 N까지\n",
    "    for v in range(1, N + 1):\n",
    "        \n",
    "        # 스테이지가 남았는데도 불구하고 length값이 0이 되는 경우가 있기 때문에 조건식 추가\n",
    "        if users != 0:\n",
    "            \n",
    "            # 각 스테이지에 머물고 있는 사용자 수 계산\n",
    "            failed_users = stages.count(v)\n",
    "            \n",
    "            # 각 스테이지에 머물고 있는 사용자 수 계산 / 계산되지 않은 사용자들의 수\n",
    "            answer[v] = failed_users / users\n",
    "            \n",
    "            # 다음 실패율 계산을 위해 계산에 포함되었던 유저들의 수를 마이너스\n",
    "            users -= failed_users\n",
    "        else:\n",
    "            answer[v] = 0\n",
    "    \n",
    "    # 실패율이 높은 순으로 내림차순\n",
    "    return sorted(answer, key=lambda k : answer[k], reverse=True)"
   ]
  },
  {
   "cell_type": "code",
   "execution_count": 66,
   "metadata": {},
   "outputs": [
    {
     "data": {
      "text/plain": [
       "[3, 4, 2, 1, 5]"
      ]
     },
     "execution_count": 66,
     "metadata": {},
     "output_type": "execute_result"
    }
   ],
   "source": [
    "N = 5\n",
    "stages = [2, 1, 2, 6, 2, 4, 3, 3]\n",
    "\n",
    "# N = 4\n",
    "# stages = [4,4,4,4,4]\n",
    "solution(N, stages)"
   ]
  },
  {
   "cell_type": "code",
   "execution_count": null,
   "metadata": {},
   "outputs": [],
   "source": []
  }
 ],
 "metadata": {
  "kernelspec": {
   "display_name": "Python 3",
   "language": "python",
   "name": "python3"
  },
  "language_info": {
   "codemirror_mode": {
    "name": "ipython",
    "version": 3
   },
   "file_extension": ".py",
   "mimetype": "text/x-python",
   "name": "python",
   "nbconvert_exporter": "python",
   "pygments_lexer": "ipython3",
   "version": "3.7.4"
  }
 },
 "nbformat": 4,
 "nbformat_minor": 2
}
