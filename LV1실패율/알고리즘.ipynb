{
 "cells": [
  {
   "cell_type": "code",
   "execution_count": 1,
   "metadata": {},
   "outputs": [
    {
     "data": {
      "text/plain": [
       "80"
      ]
     },
     "execution_count": 1,
     "metadata": {},
     "output_type": "execute_result"
    }
   ],
   "source": [
    "def solution(w,h):\n",
    "    answer = w * h\n",
    "    if w == 1 or h == 1:\n",
    "        return 0\n",
    "    if w == h:\n",
    "        return answer - w\n",
    "    \n",
    "    if w % 2 == 0 and h % 2 == 0 and (w + h) % 2 == 0:\n",
    "        answer -= 2*w\n",
    "    else:\n",
    "        answer -= 2(w + 1) - 1\n",
    "    return answer\n",
    "solution(8,12)"
   ]
  },
  {
   "cell_type": "code",
   "execution_count": 5,
   "metadata": {},
   "outputs": [
    {
     "data": {
      "text/plain": [
       "30"
      ]
     },
     "execution_count": 5,
     "metadata": {},
     "output_type": "execute_result"
    }
   ],
   "source": [
    "triangle = [[7], [3, 8], [8, 1, 0], [2, 7, 4, 4], [4, 5, 2, 6, 5]]\n",
    "def DP(triangle):\n",
    "    length = len(triangle) - 1\n",
    "    for i in range(1, length + 1):\n",
    "        for j in range(len(triangle[i])):\n",
    "            if j == 0:\n",
    "                triangle[i][j] += triangle[i - 1][j]\n",
    "            elif j == i:\n",
    "                triangle[i][j] += triangle[i - 1][j - 1]\n",
    "            else:\n",
    "                triangle[i][j] += max(triangle[i - 1][j - 1], triangle[i - 1][j])\n",
    "    return max(triangle[-1])\n",
    "DP(triangle)"
   ]
  },
  {
   "cell_type": "markdown",
   "metadata": {},
   "source": [
    "(이전수 + 현재수) * 2 + 현재수 * 2"
   ]
  },
  {
   "cell_type": "code",
   "execution_count": 30,
   "metadata": {},
   "outputs": [
    {
     "data": {
      "text/plain": [
       "CacheInfo(hits=0, misses=0, maxsize=32, currsize=0)"
      ]
     },
     "execution_count": 30,
     "metadata": {},
     "output_type": "execute_result"
    }
   ],
   "source": [
    "from functools import lru_cache\n",
    "from time import perf_counter\n",
    "\n",
    "@lru_cache(maxsize=32)\n",
    "def fibo(N):\n",
    "    if N in (1, 2):\n",
    "        return 1\n",
    "    return fibo(N - 1) + fibo(N - 2)\n",
    "\n",
    "def DPfibo(N):\n",
    "    if N == 1:\n",
    "        return 4\n",
    "    return (fibo(N - 1) + fibo(N)) * 2 + fibo(N) * 2\n",
    "DPfibo(150)\n",
    "fibo.cache_info()\n",
    "fibo.cache_clear()\n",
    "fibo.cache_info()"
   ]
  }
 ],
 "metadata": {
  "kernelspec": {
   "display_name": "Python 3",
   "language": "python",
   "name": "python3"
  },
  "language_info": {
   "codemirror_mode": {
    "name": "ipython",
    "version": 3
   },
   "file_extension": ".py",
   "mimetype": "text/x-python",
   "name": "python",
   "nbconvert_exporter": "python",
   "pygments_lexer": "ipython3",
   "version": "3.7.4"
  }
 },
 "nbformat": 4,
 "nbformat_minor": 2
}
